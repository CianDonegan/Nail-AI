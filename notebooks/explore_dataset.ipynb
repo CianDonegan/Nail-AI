{
 "cells": [
  {
   "cell_type": "code",
   "execution_count": null,
   "id": "9e43d9f3",
   "metadata": {},
   "outputs": [
    {
     "name": "stdout",
     "output_type": "stream",
     "text": [
      "loading annotations into memory...\n"
     ]
    },
    {
     "ename": "FileNotFoundError",
     "evalue": "[Errno 2] No such file or directory: 'C:/Users/ciand/nail-ai/Nail-AI/data/raw/train_annotations.coco.json'",
     "output_type": "error",
     "traceback": [
      "\u001b[31m---------------------------------------------------------------------------\u001b[39m",
      "\u001b[31mFileNotFoundError\u001b[39m                         Traceback (most recent call last)",
      "\u001b[36mCell\u001b[39m\u001b[36m \u001b[39m\u001b[32mIn[5]\u001b[39m\u001b[32m, line 10\u001b[39m\n\u001b[32m      7\u001b[39m annFile = \u001b[33m'\u001b[39m\u001b[33mC:/Users/ciand/nail-ai/Nail-AI/data/raw/train_annotations.coco.json\u001b[39m\u001b[33m'\u001b[39m\n\u001b[32m      8\u001b[39m imgDir = \u001b[33m'\u001b[39m\u001b[33mC:/Users/ciand/nail-ai/Nail-AI/data/raw/train\u001b[39m\u001b[33m'\u001b[39m\n\u001b[32m---> \u001b[39m\u001b[32m10\u001b[39m coco = \u001b[43mCOCO\u001b[49m\u001b[43m(\u001b[49m\u001b[43mannFile\u001b[49m\u001b[43m)\u001b[49m\n\u001b[32m     11\u001b[39m catIds = coco.getCatIds(catNms=[\u001b[33m'\u001b[39m\u001b[33mnail\u001b[39m\u001b[33m'\u001b[39m])\n\u001b[32m     13\u001b[39m imgIds = coco.getImgIds(catIds=catIds)\n",
      "\u001b[36mFile \u001b[39m\u001b[32mc:\\Users\\ciand\\nail-ai\\Nail-AI\\env\\Lib\\site-packages\\pycocotools\\coco.py:81\u001b[39m, in \u001b[36mCOCO.__init__\u001b[39m\u001b[34m(self, annotation_file)\u001b[39m\n\u001b[32m     79\u001b[39m \u001b[38;5;28mprint\u001b[39m(\u001b[33m'\u001b[39m\u001b[33mloading annotations into memory...\u001b[39m\u001b[33m'\u001b[39m)\n\u001b[32m     80\u001b[39m tic = time.time()\n\u001b[32m---> \u001b[39m\u001b[32m81\u001b[39m \u001b[38;5;28;01mwith\u001b[39;00m \u001b[38;5;28;43mopen\u001b[39;49m\u001b[43m(\u001b[49m\u001b[43mannotation_file\u001b[49m\u001b[43m,\u001b[49m\u001b[43m \u001b[49m\u001b[33;43m'\u001b[39;49m\u001b[33;43mr\u001b[39;49m\u001b[33;43m'\u001b[39;49m\u001b[43m)\u001b[49m \u001b[38;5;28;01mas\u001b[39;00m f:\n\u001b[32m     82\u001b[39m     dataset = json.load(f)\n\u001b[32m     83\u001b[39m \u001b[38;5;28;01massert\u001b[39;00m \u001b[38;5;28mtype\u001b[39m(dataset)==\u001b[38;5;28mdict\u001b[39m, \u001b[33m'\u001b[39m\u001b[33mannotation file format \u001b[39m\u001b[38;5;132;01m{}\u001b[39;00m\u001b[33m not supported\u001b[39m\u001b[33m'\u001b[39m.format(\u001b[38;5;28mtype\u001b[39m(dataset))\n",
      "\u001b[31mFileNotFoundError\u001b[39m: [Errno 2] No such file or directory: 'C:/Users/ciand/nail-ai/Nail-AI/data/raw/train_annotations.coco.json'"
     ]
    }
   ],
   "source": [
    "from pycocotools.coco import COCO\n",
    "import cv2\n",
    "import numpy as np\n",
    "import os\n",
    "\n",
    "# Updated file paths using forward slashes\n",
    "annFile = 'C:/Users/ciand/nail-ai/Nail-AI/data/raw/_annotations.coco.json'\n",
    "imgDir = 'C:/Users/ciand/nail-ai/Nail-AI/data/raw/train'\n",
    "\n",
    "coco = COCO(annFile)\n",
    "catIds = coco.getCatIds(catNms=['nail'])\n",
    "\n",
    "imgIds = coco.getImgIds(catIds=catIds)\n",
    "\n",
    "# Load a random image\n",
    "img = coco.loadImgs(imgIds[np.random.randint(0, len(imgIds))])[0]\n",
    "I = cv2.imread(os.path.join(imgDir, img['file_name']))\n",
    "\n",
    "# Show image\n",
    "cv2.imshow(\"Image\", I)\n",
    "cv2.waitKey(0)"
   ]
  }
 ],
 "metadata": {
  "kernelspec": {
   "display_name": "Python 3",
   "language": "python",
   "name": "python3"
  },
  "language_info": {
   "codemirror_mode": {
    "name": "ipython",
    "version": 3
   },
   "file_extension": ".py",
   "mimetype": "text/x-python",
   "name": "python",
   "nbconvert_exporter": "python",
   "pygments_lexer": "ipython3",
   "version": "3.11.9"
  }
 },
 "nbformat": 4,
 "nbformat_minor": 5
}
